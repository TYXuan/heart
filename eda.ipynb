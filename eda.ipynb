{
 "cells": [
  {
   "cell_type": "markdown",
   "id": "cdc09fbc",
   "metadata": {},
   "source": [
    "# Exploratory Data Analysis\n",
    "   ---\n",
    "*By Tan Yu Xuan                    31 Jan 2022*"
   ]
  },
  {
   "cell_type": "markdown",
   "id": "8414eeb3",
   "metadata": {},
   "source": [
    "# Imported Libraries"
   ]
  },
  {
   "cell_type": "code",
   "execution_count": 1,
   "id": "0c58279a",
   "metadata": {},
   "outputs": [],
   "source": [
    "import pandas as pd\n",
    "import numpy as np\n",
    "import matplotlib.pyplot as plt\n",
    "import seaborn as sns\n",
    "\n",
    "# change to nicer default style\n",
    "plt.style.use('seaborn')\n",
    "%matplotlib inline"
   ]
  },
  {
   "cell_type": "markdown",
   "id": "90b24ae4",
   "metadata": {},
   "source": [
    "The dataset was downloaded from https://www.kaggle.com/datasets/fedesoriano/heart-failure-prediction.\n",
    "\n",
    "It contains patients' health information from Cleveland, Hungary, Switzerland, and the VA Long Beach.\n",
    "\n",
    "With insights on these, we can draw correlations to see which features lead to heart diease and perhaps predict patients with heart diease."
   ]
  },
  {
   "cell_type": "markdown",
   "id": "027316d6",
   "metadata": {},
   "source": [
    "**List of attributes**\n",
    "\n",
    "| Attribute | Description |\n",
    "|-----------|-------------|\n",
    "|Age|age of patient [in years]|\n",
    "|Sex|sex of patient [M: Male, F: Female]|\n",
    "|ChestPainType|chest pain type [TA: Typical Angina, ATA: Atypical Angina, NAP: Non-Anginal Pain, ASY: Asymptomatic]|\n",
    "|RestingBP|resting blood pressure [mm Hg]|\n",
    "|Cholesterol|serum cholesterol [mm/dl]|\n",
    "|FastingBS|fasting blood sugar [1: if FastingBS > 120mg/dl, 0: otherwise]|\n",
    "|RestingECG|Resting electrocargiogram results [Normal: Normal, ST: having ST-T wave abnormality (T wave inversions and/or ST elevation or depression of > 0.05mV), LVH: showing probable or definite left ventricular hypertrophy by Estes' criteria]|\n",
    "|MaxHR|maximum heart rate achieved [Numeric value between 60 and 202]|\n",
    "|ExerciseAngina|exercise-induced agina [Y: Yes, N: No]|\n",
    "|OldPeak|old peak = ST [Numeric value measured in depression]|\n",
    "|ST_Slope|the slope of the peak exercise ST segment [Up: upsloping, Flat: flat, Down: downsloping]|\n",
    "|HeartDisease|output class [1: heart diease, 0: Normal]|"
   ]
  },
  {
   "cell_type": "markdown",
   "id": "d2c5fa6c",
   "metadata": {},
   "source": [
    "# Importing Dataset"
   ]
  },
  {
   "cell_type": "code",
   "execution_count": 2,
   "id": "3de15f37",
   "metadata": {},
   "outputs": [],
   "source": [
    "# Read csv into pandas DataFrame\n",
    "df = pd.read_csv(r'data\\heart.csv')"
   ]
  },
  {
   "cell_type": "markdown",
   "id": "3bf49753",
   "metadata": {},
   "source": [
    "# Heart Dataset"
   ]
  },
  {
   "cell_type": "code",
   "execution_count": 3,
   "id": "ee661a99",
   "metadata": {},
   "outputs": [
    {
     "data": {
      "text/html": [
       "<div>\n",
       "<style scoped>\n",
       "    .dataframe tbody tr th:only-of-type {\n",
       "        vertical-align: middle;\n",
       "    }\n",
       "\n",
       "    .dataframe tbody tr th {\n",
       "        vertical-align: top;\n",
       "    }\n",
       "\n",
       "    .dataframe thead th {\n",
       "        text-align: right;\n",
       "    }\n",
       "</style>\n",
       "<table border=\"1\" class=\"dataframe\">\n",
       "  <thead>\n",
       "    <tr style=\"text-align: right;\">\n",
       "      <th></th>\n",
       "      <th>Age</th>\n",
       "      <th>Sex</th>\n",
       "      <th>ChestPainType</th>\n",
       "      <th>RestingBP</th>\n",
       "      <th>Cholesterol</th>\n",
       "      <th>FastingBS</th>\n",
       "      <th>RestingECG</th>\n",
       "      <th>MaxHR</th>\n",
       "      <th>ExerciseAngina</th>\n",
       "      <th>Oldpeak</th>\n",
       "      <th>ST_Slope</th>\n",
       "      <th>HeartDisease</th>\n",
       "    </tr>\n",
       "  </thead>\n",
       "  <tbody>\n",
       "    <tr>\n",
       "      <th>0</th>\n",
       "      <td>40</td>\n",
       "      <td>M</td>\n",
       "      <td>ATA</td>\n",
       "      <td>140</td>\n",
       "      <td>289</td>\n",
       "      <td>0</td>\n",
       "      <td>Normal</td>\n",
       "      <td>172</td>\n",
       "      <td>N</td>\n",
       "      <td>0.0</td>\n",
       "      <td>Up</td>\n",
       "      <td>0</td>\n",
       "    </tr>\n",
       "    <tr>\n",
       "      <th>1</th>\n",
       "      <td>49</td>\n",
       "      <td>F</td>\n",
       "      <td>NAP</td>\n",
       "      <td>160</td>\n",
       "      <td>180</td>\n",
       "      <td>0</td>\n",
       "      <td>Normal</td>\n",
       "      <td>156</td>\n",
       "      <td>N</td>\n",
       "      <td>1.0</td>\n",
       "      <td>Flat</td>\n",
       "      <td>1</td>\n",
       "    </tr>\n",
       "    <tr>\n",
       "      <th>2</th>\n",
       "      <td>37</td>\n",
       "      <td>M</td>\n",
       "      <td>ATA</td>\n",
       "      <td>130</td>\n",
       "      <td>283</td>\n",
       "      <td>0</td>\n",
       "      <td>ST</td>\n",
       "      <td>98</td>\n",
       "      <td>N</td>\n",
       "      <td>0.0</td>\n",
       "      <td>Up</td>\n",
       "      <td>0</td>\n",
       "    </tr>\n",
       "    <tr>\n",
       "      <th>3</th>\n",
       "      <td>48</td>\n",
       "      <td>F</td>\n",
       "      <td>ASY</td>\n",
       "      <td>138</td>\n",
       "      <td>214</td>\n",
       "      <td>0</td>\n",
       "      <td>Normal</td>\n",
       "      <td>108</td>\n",
       "      <td>Y</td>\n",
       "      <td>1.5</td>\n",
       "      <td>Flat</td>\n",
       "      <td>1</td>\n",
       "    </tr>\n",
       "    <tr>\n",
       "      <th>4</th>\n",
       "      <td>54</td>\n",
       "      <td>M</td>\n",
       "      <td>NAP</td>\n",
       "      <td>150</td>\n",
       "      <td>195</td>\n",
       "      <td>0</td>\n",
       "      <td>Normal</td>\n",
       "      <td>122</td>\n",
       "      <td>N</td>\n",
       "      <td>0.0</td>\n",
       "      <td>Up</td>\n",
       "      <td>0</td>\n",
       "    </tr>\n",
       "  </tbody>\n",
       "</table>\n",
       "</div>"
      ],
      "text/plain": [
       "   Age Sex ChestPainType  RestingBP  Cholesterol  FastingBS RestingECG  MaxHR  \\\n",
       "0   40   M           ATA        140          289          0     Normal    172   \n",
       "1   49   F           NAP        160          180          0     Normal    156   \n",
       "2   37   M           ATA        130          283          0         ST     98   \n",
       "3   48   F           ASY        138          214          0     Normal    108   \n",
       "4   54   M           NAP        150          195          0     Normal    122   \n",
       "\n",
       "  ExerciseAngina  Oldpeak ST_Slope  HeartDisease  \n",
       "0              N      0.0       Up             0  \n",
       "1              N      1.0     Flat             1  \n",
       "2              N      0.0       Up             0  \n",
       "3              Y      1.5     Flat             1  \n",
       "4              N      0.0       Up             0  "
      ]
     },
     "execution_count": 3,
     "metadata": {},
     "output_type": "execute_result"
    }
   ],
   "source": [
    "df.head()"
   ]
  },
  {
   "cell_type": "code",
   "execution_count": 4,
   "id": "9e2aa2fe",
   "metadata": {},
   "outputs": [
    {
     "data": {
      "text/html": [
       "<div>\n",
       "<style scoped>\n",
       "    .dataframe tbody tr th:only-of-type {\n",
       "        vertical-align: middle;\n",
       "    }\n",
       "\n",
       "    .dataframe tbody tr th {\n",
       "        vertical-align: top;\n",
       "    }\n",
       "\n",
       "    .dataframe thead th {\n",
       "        text-align: right;\n",
       "    }\n",
       "</style>\n",
       "<table border=\"1\" class=\"dataframe\">\n",
       "  <thead>\n",
       "    <tr style=\"text-align: right;\">\n",
       "      <th></th>\n",
       "      <th>Age</th>\n",
       "      <th>Sex</th>\n",
       "      <th>ChestPainType</th>\n",
       "      <th>RestingBP</th>\n",
       "      <th>Cholesterol</th>\n",
       "      <th>FastingBS</th>\n",
       "      <th>RestingECG</th>\n",
       "      <th>MaxHR</th>\n",
       "      <th>ExerciseAngina</th>\n",
       "      <th>Oldpeak</th>\n",
       "      <th>ST_Slope</th>\n",
       "      <th>HeartDisease</th>\n",
       "    </tr>\n",
       "  </thead>\n",
       "  <tbody>\n",
       "    <tr>\n",
       "      <th>913</th>\n",
       "      <td>45</td>\n",
       "      <td>M</td>\n",
       "      <td>TA</td>\n",
       "      <td>110</td>\n",
       "      <td>264</td>\n",
       "      <td>0</td>\n",
       "      <td>Normal</td>\n",
       "      <td>132</td>\n",
       "      <td>N</td>\n",
       "      <td>1.2</td>\n",
       "      <td>Flat</td>\n",
       "      <td>1</td>\n",
       "    </tr>\n",
       "    <tr>\n",
       "      <th>914</th>\n",
       "      <td>68</td>\n",
       "      <td>M</td>\n",
       "      <td>ASY</td>\n",
       "      <td>144</td>\n",
       "      <td>193</td>\n",
       "      <td>1</td>\n",
       "      <td>Normal</td>\n",
       "      <td>141</td>\n",
       "      <td>N</td>\n",
       "      <td>3.4</td>\n",
       "      <td>Flat</td>\n",
       "      <td>1</td>\n",
       "    </tr>\n",
       "    <tr>\n",
       "      <th>915</th>\n",
       "      <td>57</td>\n",
       "      <td>M</td>\n",
       "      <td>ASY</td>\n",
       "      <td>130</td>\n",
       "      <td>131</td>\n",
       "      <td>0</td>\n",
       "      <td>Normal</td>\n",
       "      <td>115</td>\n",
       "      <td>Y</td>\n",
       "      <td>1.2</td>\n",
       "      <td>Flat</td>\n",
       "      <td>1</td>\n",
       "    </tr>\n",
       "    <tr>\n",
       "      <th>916</th>\n",
       "      <td>57</td>\n",
       "      <td>F</td>\n",
       "      <td>ATA</td>\n",
       "      <td>130</td>\n",
       "      <td>236</td>\n",
       "      <td>0</td>\n",
       "      <td>LVH</td>\n",
       "      <td>174</td>\n",
       "      <td>N</td>\n",
       "      <td>0.0</td>\n",
       "      <td>Flat</td>\n",
       "      <td>1</td>\n",
       "    </tr>\n",
       "    <tr>\n",
       "      <th>917</th>\n",
       "      <td>38</td>\n",
       "      <td>M</td>\n",
       "      <td>NAP</td>\n",
       "      <td>138</td>\n",
       "      <td>175</td>\n",
       "      <td>0</td>\n",
       "      <td>Normal</td>\n",
       "      <td>173</td>\n",
       "      <td>N</td>\n",
       "      <td>0.0</td>\n",
       "      <td>Up</td>\n",
       "      <td>0</td>\n",
       "    </tr>\n",
       "  </tbody>\n",
       "</table>\n",
       "</div>"
      ],
      "text/plain": [
       "     Age Sex ChestPainType  RestingBP  Cholesterol  FastingBS RestingECG  \\\n",
       "913   45   M            TA        110          264          0     Normal   \n",
       "914   68   M           ASY        144          193          1     Normal   \n",
       "915   57   M           ASY        130          131          0     Normal   \n",
       "916   57   F           ATA        130          236          0        LVH   \n",
       "917   38   M           NAP        138          175          0     Normal   \n",
       "\n",
       "     MaxHR ExerciseAngina  Oldpeak ST_Slope  HeartDisease  \n",
       "913    132              N      1.2     Flat             1  \n",
       "914    141              N      3.4     Flat             1  \n",
       "915    115              Y      1.2     Flat             1  \n",
       "916    174              N      0.0     Flat             1  \n",
       "917    173              N      0.0       Up             0  "
      ]
     },
     "execution_count": 4,
     "metadata": {},
     "output_type": "execute_result"
    }
   ],
   "source": [
    "df.tail()"
   ]
  },
  {
   "cell_type": "markdown",
   "id": "44e9145b",
   "metadata": {},
   "source": [
    "The following features to be modified for modelling preparation:\n",
    "1. Sex - encoded\n",
    "2. ChestPainType - classify according to intensity of pain (3:TA, 2:ATA, 1:NAP, 0:ASY)\n",
    "3. RestingECG - classify according to severity (0:Normal, 1:ST, 2:LVH)\n",
    "4. ExerciseAngina - encoded (0: N, 1: Y)\n",
    "5. ST_Slope - classify according to severity (0:up, 1:flat, 2:Down)"
   ]
  },
  {
   "cell_type": "code",
   "execution_count": 5,
   "id": "2c16af81",
   "metadata": {},
   "outputs": [
    {
     "name": "stdout",
     "output_type": "stream",
     "text": [
      "<class 'pandas.core.frame.DataFrame'>\n",
      "RangeIndex: 918 entries, 0 to 917\n",
      "Data columns (total 12 columns):\n",
      " #   Column          Non-Null Count  Dtype  \n",
      "---  ------          --------------  -----  \n",
      " 0   Age             918 non-null    int64  \n",
      " 1   Sex             918 non-null    object \n",
      " 2   ChestPainType   918 non-null    object \n",
      " 3   RestingBP       918 non-null    int64  \n",
      " 4   Cholesterol     918 non-null    int64  \n",
      " 5   FastingBS       918 non-null    int64  \n",
      " 6   RestingECG      918 non-null    object \n",
      " 7   MaxHR           918 non-null    int64  \n",
      " 8   ExerciseAngina  918 non-null    object \n",
      " 9   Oldpeak         918 non-null    float64\n",
      " 10  ST_Slope        918 non-null    object \n",
      " 11  HeartDisease    918 non-null    int64  \n",
      "dtypes: float64(1), int64(6), object(5)\n",
      "memory usage: 86.2+ KB\n"
     ]
    }
   ],
   "source": [
    "df.info()"
   ]
  },
  {
   "cell_type": "markdown",
   "id": "0201be7b",
   "metadata": {},
   "source": [
    "No missing values."
   ]
  },
  {
   "cell_type": "code",
   "execution_count": 8,
   "id": "be424aad",
   "metadata": {},
   "outputs": [
    {
     "data": {
      "text/plain": [
       "Age                50\n",
       "Sex                 2\n",
       "ChestPainType       4\n",
       "RestingBP          67\n",
       "Cholesterol       222\n",
       "FastingBS           2\n",
       "RestingECG          3\n",
       "MaxHR             119\n",
       "ExerciseAngina      2\n",
       "Oldpeak            53\n",
       "ST_Slope            3\n",
       "HeartDisease        2\n",
       "dtype: int64"
      ]
     },
     "execution_count": 8,
     "metadata": {},
     "output_type": "execute_result"
    }
   ],
   "source": [
    "df.nunique()"
   ]
  },
  {
   "cell_type": "markdown",
   "id": "58864ce8",
   "metadata": {},
   "source": [
    "# Feature Engineering"
   ]
  },
  {
   "cell_type": "markdown",
   "id": "a33834f4",
   "metadata": {},
   "source": [
    "## Sex (Gender)"
   ]
  },
  {
   "cell_type": "code",
   "execution_count": 86,
   "id": "818c6de4",
   "metadata": {},
   "outputs": [],
   "source": [
    "df.loc[(df['Sex'] == 'M'), 'Male'] = 1\n",
    "df.loc[(df['Sex'] != 'M'), 'Male'] = 0"
   ]
  },
  {
   "cell_type": "code",
   "execution_count": 87,
   "id": "882a2087",
   "metadata": {},
   "outputs": [],
   "source": [
    "df.loc[(df['Sex'] == 'F'), 'Female'] = 1\n",
    "df.loc[(df['Sex'] != 'F'), 'Female'] = 0"
   ]
  },
  {
   "cell_type": "markdown",
   "id": "1253e96b",
   "metadata": {},
   "source": [
    "## Chest Pain Type\n",
    "\n",
    " Chest pain can result from blocked or reduced blood flow to the heart – known as a heart attack."
   ]
  },
  {
   "cell_type": "code",
   "execution_count": 107,
   "id": "5853db0d",
   "metadata": {},
   "outputs": [],
   "source": [
    "chestpain_dict = {'TA':3, 'ATA':2, 'NAP':1, 'ASY':0}\n",
    "df['ChestPainType_rank'] = df['ChestPainType'].replace(chestpain_dict)"
   ]
  },
  {
   "cell_type": "markdown",
   "id": "c9d4855d",
   "metadata": {},
   "source": [
    "## Resting BP"
   ]
  },
  {
   "cell_type": "code",
   "execution_count": 118,
   "id": "6b52c6a1",
   "metadata": {},
   "outputs": [
    {
     "data": {
      "text/plain": [
       "count    918.000000\n",
       "mean     132.396514\n",
       "std       18.514154\n",
       "min        0.000000\n",
       "25%      120.000000\n",
       "50%      130.000000\n",
       "75%      140.000000\n",
       "max      200.000000\n",
       "Name: RestingBP, dtype: float64"
      ]
     },
     "execution_count": 118,
     "metadata": {},
     "output_type": "execute_result"
    }
   ],
   "source": [
    "df['RestingBP'].describe()"
   ]
  },
  {
   "cell_type": "code",
   "execution_count": 119,
   "id": "513b0060",
   "metadata": {},
   "outputs": [
    {
     "data": {
      "text/html": [
       "<div>\n",
       "<style scoped>\n",
       "    .dataframe tbody tr th:only-of-type {\n",
       "        vertical-align: middle;\n",
       "    }\n",
       "\n",
       "    .dataframe tbody tr th {\n",
       "        vertical-align: top;\n",
       "    }\n",
       "\n",
       "    .dataframe thead th {\n",
       "        text-align: right;\n",
       "    }\n",
       "</style>\n",
       "<table border=\"1\" class=\"dataframe\">\n",
       "  <thead>\n",
       "    <tr style=\"text-align: right;\">\n",
       "      <th></th>\n",
       "      <th>Age</th>\n",
       "      <th>Sex</th>\n",
       "      <th>ChestPainType</th>\n",
       "      <th>RestingBP</th>\n",
       "      <th>Cholesterol</th>\n",
       "      <th>FastingBS</th>\n",
       "      <th>RestingECG</th>\n",
       "      <th>MaxHR</th>\n",
       "      <th>ExerciseAngina</th>\n",
       "      <th>Oldpeak</th>\n",
       "      <th>ST_Slope</th>\n",
       "      <th>HeartDisease</th>\n",
       "      <th>Male</th>\n",
       "      <th>Female</th>\n",
       "      <th>ChestPainType_rank</th>\n",
       "    </tr>\n",
       "  </thead>\n",
       "  <tbody>\n",
       "    <tr>\n",
       "      <th>449</th>\n",
       "      <td>55</td>\n",
       "      <td>M</td>\n",
       "      <td>NAP</td>\n",
       "      <td>0</td>\n",
       "      <td>0</td>\n",
       "      <td>0</td>\n",
       "      <td>Normal</td>\n",
       "      <td>155</td>\n",
       "      <td>N</td>\n",
       "      <td>1.5</td>\n",
       "      <td>Flat</td>\n",
       "      <td>1</td>\n",
       "      <td>1.0</td>\n",
       "      <td>0.0</td>\n",
       "      <td>1</td>\n",
       "    </tr>\n",
       "  </tbody>\n",
       "</table>\n",
       "</div>"
      ],
      "text/plain": [
       "     Age Sex ChestPainType  RestingBP  Cholesterol  FastingBS RestingECG  \\\n",
       "449   55   M           NAP          0            0          0     Normal   \n",
       "\n",
       "     MaxHR ExerciseAngina  Oldpeak ST_Slope  HeartDisease  Male  Female  \\\n",
       "449    155              N      1.5     Flat             1   1.0     0.0   \n",
       "\n",
       "     ChestPainType_rank  \n",
       "449                   1  "
      ]
     },
     "execution_count": 119,
     "metadata": {},
     "output_type": "execute_result"
    }
   ],
   "source": [
    "df[df['RestingBP'] < 60]"
   ]
  },
  {
   "cell_type": "code",
   "execution_count": 125,
   "id": "7fc9202d",
   "metadata": {},
   "outputs": [],
   "source": [
    "df=df.drop(df.index[449])"
   ]
  },
  {
   "cell_type": "markdown",
   "id": "cd0fa24f",
   "metadata": {},
   "source": [
    "## Cholesterol\n",
    "\n",
    "High levels of cholesterol can increase your risk of heart disease. With high cholesterol, you can develop fatty deposits in your blood vessels. Eventually, these deposits grow, making it difficult for enough blood to flow through your arteries."
   ]
  },
  {
   "cell_type": "code",
   "execution_count": 133,
   "id": "c6ab14d4",
   "metadata": {},
   "outputs": [
    {
     "data": {
      "text/plain": [
       "[Text(0.5, 1.0, 'Histogram of Cholesterol')]"
      ]
     },
     "execution_count": 133,
     "metadata": {},
     "output_type": "execute_result"
    },
    {
     "data": {
      "image/png": "[encoded data removed]",
      "text/plain": [
       "<Figure size 720x576 with 1 Axes>"
      ]
     },
     "metadata": {
      "needs_background": "light"
     },
     "output_type": "display_data"
    }
   ],
   "source": [
    "plt.figure(figsize=(10,8))\n",
    "sns.histplot(data=df, x='Cholesterol', hue='HeartDisease').set(title='Histogram of Cholesterol')"
   ]
  },
  {
   "cell_type": "markdown",
   "id": "04fd9369",
   "metadata": {},
   "source": [
    "From the graph, there are cholesterols with zero values. Impute zero cholesterol with mean values."
   ]
  },
  {
   "cell_type": "code",
   "execution_count": null,
   "id": "4cf4879c",
   "metadata": {},
   "outputs": [],
   "source": [
    "df_no_heartdisease = df[df['HeartDisease'] == 0]\n",
    "df_heartdisease = df[df['HeartDisease'] == 1]"
   ]
  },
  {
   "cell_type": "code",
   "execution_count": 142,
   "id": "3b7ad710",
   "metadata": {},
   "outputs": [],
   "source": [
    "positive_cholesterol_no_heartdisease = df_no_heartdisease[df_no_heartdisease['Cholesterol'] != 0]"
   ]
  },
  {
   "cell_type": "code",
   "execution_count": 143,
   "id": "4dce1fa8",
   "metadata": {},
   "outputs": [],
   "source": [
    "mean_positive_cholesterol_no_heartdisease = positive_cholesterol_no_heartdisease['Cholesterol'].mean()"
   ]
  },
  {
   "cell_type": "code",
   "execution_count": 146,
   "id": "fddc227b",
   "metadata": {},
   "outputs": [],
   "source": [
    "positive_cholesterol_heartdisease = df_heartdisease[df_heartdisease['Cholesterol'] != 0]"
   ]
  },
  {
   "cell_type": "code",
   "execution_count": 147,
   "id": "63b57272",
   "metadata": {},
   "outputs": [],
   "source": [
    "mean_positive_cholesterol_heartdisease = positive_cholesterol_heartdisease['Cholesterol'].mean()"
   ]
  },
  {
   "cell_type": "code",
   "execution_count": 153,
   "id": "5991ffe0",
   "metadata": {},
   "outputs": [],
   "source": [
    "zero_cholesterol_no_heartdisease_cond = (df['Cholesterol'] == 0) & (df['HeartDisease'] == 0)\n",
    "zero_cholesterol_heartdisease_cond = (df['Cholesterol'] == 0) & (df['HeartDisease'] == 1)"
   ]
  },
  {
   "cell_type": "code",
   "execution_count": 150,
   "id": "8462973a",
   "metadata": {},
   "outputs": [],
   "source": [
    "df['Cholesterol'] = np.where(zero_cholesterol_no_heartdisease_cond, mean_positive_cholesterol_no_heartdisease, df['Cholesterol'])"
   ]
  },
  {
   "cell_type": "code",
   "execution_count": 154,
   "id": "7ff1b95c",
   "metadata": {},
   "outputs": [],
   "source": [
    "df['Cholesterol'] = np.where(zero_cholesterol_heartdisease_cond, mean_positive_cholesterol_heartdisease, df['Cholesterol'])"
   ]
  },
  {
   "cell_type": "markdown",
   "id": "92cf8006",
   "metadata": {},
   "source": [
    "## Resting ECG"
   ]
  },
  {
   "cell_type": "code",
   "execution_count": 173,
   "id": "dbccc625",
   "metadata": {},
   "outputs": [],
   "source": [
    "ecg_dict = {'Normal':0, 'ST':1, 'LVH':2}\n",
    "df['RestingECG_rank'] = df['RestingECG'].replace(ecg_dict)"
   ]
  },
  {
   "cell_type": "code",
   "execution_count": 174,
   "id": "f276efbd",
   "metadata": {},
   "outputs": [
    {
     "data": {
      "text/html": [
       "<div>\n",
       "<style scoped>\n",
       "    .dataframe tbody tr th:only-of-type {\n",
       "        vertical-align: middle;\n",
       "    }\n",
       "\n",
       "    .dataframe tbody tr th {\n",
       "        vertical-align: top;\n",
       "    }\n",
       "\n",
       "    .dataframe thead th {\n",
       "        text-align: right;\n",
       "    }\n",
       "</style>\n",
       "<table border=\"1\" class=\"dataframe\">\n",
       "  <thead>\n",
       "    <tr style=\"text-align: right;\">\n",
       "      <th></th>\n",
       "      <th>Age</th>\n",
       "      <th>Sex</th>\n",
       "      <th>ChestPainType</th>\n",
       "      <th>RestingBP</th>\n",
       "      <th>Cholesterol</th>\n",
       "      <th>FastingBS</th>\n",
       "      <th>RestingECG</th>\n",
       "      <th>MaxHR</th>\n",
       "      <th>ExerciseAngina</th>\n",
       "      <th>Oldpeak</th>\n",
       "      <th>ST_Slope</th>\n",
       "      <th>HeartDisease</th>\n",
       "      <th>Male</th>\n",
       "      <th>Female</th>\n",
       "      <th>ChestPainType_rank</th>\n",
       "      <th>RestingECG_rank</th>\n",
       "    </tr>\n",
       "  </thead>\n",
       "  <tbody>\n",
       "    <tr>\n",
       "      <th>0</th>\n",
       "      <td>40</td>\n",
       "      <td>M</td>\n",
       "      <td>ATA</td>\n",
       "      <td>140</td>\n",
       "      <td>289.0</td>\n",
       "      <td>0</td>\n",
       "      <td>Normal</td>\n",
       "      <td>172</td>\n",
       "      <td>N</td>\n",
       "      <td>0.0</td>\n",
       "      <td>Up</td>\n",
       "      <td>0</td>\n",
       "      <td>1.0</td>\n",
       "      <td>0.0</td>\n",
       "      <td>2</td>\n",
       "      <td>0</td>\n",
       "    </tr>\n",
       "    <tr>\n",
       "      <th>1</th>\n",
       "      <td>49</td>\n",
       "      <td>F</td>\n",
       "      <td>NAP</td>\n",
       "      <td>160</td>\n",
       "      <td>180.0</td>\n",
       "      <td>0</td>\n",
       "      <td>Normal</td>\n",
       "      <td>156</td>\n",
       "      <td>N</td>\n",
       "      <td>1.0</td>\n",
       "      <td>Flat</td>\n",
       "      <td>1</td>\n",
       "      <td>0.0</td>\n",
       "      <td>1.0</td>\n",
       "      <td>1</td>\n",
       "      <td>0</td>\n",
       "    </tr>\n",
       "    <tr>\n",
       "      <th>2</th>\n",
       "      <td>37</td>\n",
       "      <td>M</td>\n",
       "      <td>ATA</td>\n",
       "      <td>130</td>\n",
       "      <td>283.0</td>\n",
       "      <td>0</td>\n",
       "      <td>ST</td>\n",
       "      <td>98</td>\n",
       "      <td>N</td>\n",
       "      <td>0.0</td>\n",
       "      <td>Up</td>\n",
       "      <td>0</td>\n",
       "      <td>1.0</td>\n",
       "      <td>0.0</td>\n",
       "      <td>2</td>\n",
       "      <td>1</td>\n",
       "    </tr>\n",
       "    <tr>\n",
       "      <th>3</th>\n",
       "      <td>48</td>\n",
       "      <td>F</td>\n",
       "      <td>ASY</td>\n",
       "      <td>138</td>\n",
       "      <td>214.0</td>\n",
       "      <td>0</td>\n",
       "      <td>Normal</td>\n",
       "      <td>108</td>\n",
       "      <td>Y</td>\n",
       "      <td>1.5</td>\n",
       "      <td>Flat</td>\n",
       "      <td>1</td>\n",
       "      <td>0.0</td>\n",
       "      <td>1.0</td>\n",
       "      <td>0</td>\n",
       "      <td>0</td>\n",
       "    </tr>\n",
       "    <tr>\n",
       "      <th>4</th>\n",
       "      <td>54</td>\n",
       "      <td>M</td>\n",
       "      <td>NAP</td>\n",
       "      <td>150</td>\n",
       "      <td>195.0</td>\n",
       "      <td>0</td>\n",
       "      <td>Normal</td>\n",
       "      <td>122</td>\n",
       "      <td>N</td>\n",
       "      <td>0.0</td>\n",
       "      <td>Up</td>\n",
       "      <td>0</td>\n",
       "      <td>1.0</td>\n",
       "      <td>0.0</td>\n",
       "      <td>1</td>\n",
       "      <td>0</td>\n",
       "    </tr>\n",
       "  </tbody>\n",
       "</table>\n",
       "</div>"
      ],
      "text/plain": [
       "   Age Sex ChestPainType  RestingBP  Cholesterol  FastingBS RestingECG  MaxHR  \\\n",
       "0   40   M           ATA        140        289.0          0     Normal    172   \n",
       "1   49   F           NAP        160        180.0          0     Normal    156   \n",
       "2   37   M           ATA        130        283.0          0         ST     98   \n",
       "3   48   F           ASY        138        214.0          0     Normal    108   \n",
       "4   54   M           NAP        150        195.0          0     Normal    122   \n",
       "\n",
       "  ExerciseAngina  Oldpeak ST_Slope  HeartDisease  Male  Female  \\\n",
       "0              N      0.0       Up             0   1.0     0.0   \n",
       "1              N      1.0     Flat             1   0.0     1.0   \n",
       "2              N      0.0       Up             0   1.0     0.0   \n",
       "3              Y      1.5     Flat             1   0.0     1.0   \n",
       "4              N      0.0       Up             0   1.0     0.0   \n",
       "\n",
       "   ChestPainType_rank  RestingECG_rank  \n",
       "0                   2                0  \n",
       "1                   1                0  \n",
       "2                   2                1  \n",
       "3                   0                0  \n",
       "4                   1                0  "
      ]
     },
     "execution_count": 174,
     "metadata": {},
     "output_type": "execute_result"
    }
   ],
   "source": [
    "df.head()"
   ]
  },
  {
   "cell_type": "markdown",
   "id": "2846fe06",
   "metadata": {},
   "source": [
    "# EDA"
   ]
  },
  {
   "cell_type": "markdown",
   "id": "5b6b1ca1",
   "metadata": {},
   "source": [
    "## Age\n",
    "\n",
    "Aging can cause changes in the heart and blood vessels that may increase a person's risk of developing cardiovascular disease. "
   ]
  },
  {
   "cell_type": "code",
   "execution_count": 49,
   "id": "de8879ef",
   "metadata": {},
   "outputs": [
    {
     "data": {
      "text/plain": [
       "[Text(0.5, 1.0, 'Histogram of Age')]"
      ]
     },
     "execution_count": 49,
     "metadata": {},
     "output_type": "execute_result"
    },
    {
     "data": {
      "image/png": "[encoded data removed]",
      "text/plain": [
       "<Figure size 720x576 with 1 Axes>"
      ]
     },
     "metadata": {
      "needs_background": "light"
     },
     "output_type": "display_data"
    }
   ],
   "source": [
    "plt.figure(figsize=(10,8))\n",
    "sns.histplot(data=df, x='Age', hue='HeartDisease', kde=True).set(title='Histogram of Age')"
   ]
  },
  {
   "cell_type": "markdown",
   "id": "ca158ff4",
   "metadata": {},
   "source": [
    "From the graph, older adults (ages > 54) are more likely to suffer from cardiovascular diease compared to younger ones."
   ]
  },
  {
   "cell_type": "markdown",
   "id": "8cff030d",
   "metadata": {},
   "source": [
    "# Sex"
   ]
  },
  {
   "cell_type": "code",
   "execution_count": 72,
   "id": "fe9a13af",
   "metadata": {},
   "outputs": [],
   "source": [
    "df_no_heartdisease = df[df['HeartDisease'] == 0]"
   ]
  },
  {
   "cell_type": "code",
   "execution_count": 73,
   "id": "4fad4ec4",
   "metadata": {},
   "outputs": [],
   "source": [
    "df_heartdisease = df[df['HeartDisease'] == 1]"
   ]
  },
  {
   "cell_type": "code",
   "execution_count": 74,
   "id": "26673531",
   "metadata": {},
   "outputs": [],
   "source": [
    "df_no_heartdisease_m = df_no_heartdisease[df_no_heartdisease['Sex'] == 'M']"
   ]
  },
  {
   "cell_type": "code",
   "execution_count": 75,
   "id": "43060973",
   "metadata": {},
   "outputs": [],
   "source": [
    "df_no_heartdisease_f = df_no_heartdisease[df_no_heartdisease['Sex'] == 'F']"
   ]
  },
  {
   "cell_type": "code",
   "execution_count": 76,
   "id": "8379a532",
   "metadata": {},
   "outputs": [],
   "source": [
    "df_heartdisease_m = df_heartdisease[df_heartdisease['Sex'] == 'M']"
   ]
  },
  {
   "cell_type": "code",
   "execution_count": 77,
   "id": "77b99b77",
   "metadata": {},
   "outputs": [],
   "source": [
    "df_heartdisease_f = df_heartdisease[df_heartdisease['Sex'] == 'F']"
   ]
  },
  {
   "cell_type": "code",
   "execution_count": 78,
   "id": "1a103ccc",
   "metadata": {},
   "outputs": [],
   "source": [
    "total_m = len(df_no_heartdisease_m) + len(df_heartdisease_m)\n",
    "prop_no_heartdisease_m = len(df_no_heartdisease_m) / total_m\n",
    "prop_heartdisease_m = 1 - prop_no_heartdisease_m"
   ]
  },
  {
   "cell_type": "code",
   "execution_count": 79,
   "id": "8d0a0820",
   "metadata": {},
   "outputs": [
    {
     "data": {
      "image/png": "[encoded data removed]",
      "text/plain": [
       "<Figure size 432x432 with 1 Axes>"
      ]
     },
     "metadata": {},
     "output_type": "display_data"
    }
   ],
   "source": [
    "fig1, ax1 = plt.subplots(figsize=(6, 6))\n",
    "ax1.pie([prop_no_heartdisease_m, prop_heartdisease_m], labels=['No HeartDisease', 'HeartDisease'], autopct='%1.1f%%',\n",
    "        colors = ['#66b3ff','#ff9999'], startangle=90, textprops={'fontsize': 12})\n",
    "ax1.axis('equal')\n",
    "\n",
    "plt.title('Proportion of Males with & without Heart Disease')\n",
    "plt.show()"
   ]
  },
  {
   "cell_type": "code",
   "execution_count": 80,
   "id": "f84d97ca",
   "metadata": {},
   "outputs": [],
   "source": [
    "total_f = len(df_no_heartdisease_f) + len(df_heartdisease_f)\n",
    "prop_no_heartdisease_f = len(df_no_heartdisease_f) / total_f\n",
    "prop_heartdisease_f = 1 - prop_no_heartdisease_f"
   ]
  },
  {
   "cell_type": "code",
   "execution_count": 103,
   "id": "cae62c50",
   "metadata": {},
   "outputs": [
    {
     "data": {
      "image/png": "[encoded data removed]",
      "text/plain": [
       "<Figure size 504x432 with 1 Axes>"
      ]
     },
     "metadata": {},
     "output_type": "display_data"
    }
   ],
   "source": [
    "fig1, ax1 = plt.subplots(figsize=(7, 6))\n",
    "ax1.pie([prop_no_heartdisease_f, prop_heartdisease_f], labels=['No HeartDisease', 'HeartDisease'], autopct='%1.1f%%',\n",
    "        colors = ['#66b3ff','#ff9999'], startangle=90, textprops={'fontsize': 12})\n",
    "ax1.axis('equal')\n",
    "\n",
    "plt.title('Proportion of Females with & without Heart Disease')\n",
    "plt.show()"
   ]
  },
  {
   "cell_type": "markdown",
   "id": "a6805fe5",
   "metadata": {},
   "source": [
    "## Chest Pain Type"
   ]
  },
  {
   "cell_type": "code",
   "execution_count": 93,
   "id": "27729a32",
   "metadata": {},
   "outputs": [],
   "source": [
    "df_heartdisease_asy = df_heartdisease[df_heartdisease['ChestPainType'] == 'ASY']\n",
    "df_heartdisease_nap = df_heartdisease[df_heartdisease['ChestPainType'] == 'NAP']\n",
    "df_heartdisease_ata = df_heartdisease[df_heartdisease['ChestPainType'] == 'ATA']\n",
    "df_heartdisease_ta = df_heartdisease[df_heartdisease['ChestPainType'] == 'TA']"
   ]
  },
  {
   "cell_type": "code",
   "execution_count": 94,
   "id": "12ba0545",
   "metadata": {},
   "outputs": [],
   "source": [
    "prop_heartdisease_asy = len(df_heartdisease_asy) / len(df_heartdisease)\n",
    "prop_heartdisease_nap = len(df_heartdisease_nap) / len(df_heartdisease)\n",
    "prop_heartdisease_ata = len(df_heartdisease_ata) / len(df_heartdisease)\n",
    "prop_heartdisease_ta = len(df_heartdisease_ta) / len(df_heartdisease)"
   ]
  },
  {
   "cell_type": "code",
   "execution_count": 102,
   "id": "ef6aa503",
   "metadata": {},
   "outputs": [
    {
     "data": {
      "image/png": "[encoded data removed]",
      "text/plain": [
       "<Figure size 720x540 with 1 Axes>"
      ]
     },
     "metadata": {},
     "output_type": "display_data"
    }
   ],
   "source": [
    "fig1, ax1 = plt.subplots(figsize=(10, 7.5))\n",
    "ax1.pie([prop_heartdisease_asy, prop_heartdisease_nap, prop_heartdisease_ata, prop_heartdisease_ta], labels=['Asymtopmatic', 'Non-Anginal Pain', 'Atypical Angina', 'Typical Angina'], autopct='%1.1f%%',\n",
    "        startangle=90, textprops={'fontsize': 12})\n",
    "ax1.axis('equal')\n",
    "\n",
    "plt.title('Proportion of Chest Pain Types resulting in Heart Disease')\n",
    "plt.show()"
   ]
  },
  {
   "cell_type": "code",
   "execution_count": 104,
   "id": "c63caeca",
   "metadata": {},
   "outputs": [],
   "source": [
    "df_no_heartdisease_asy = df_no_heartdisease[df_no_heartdisease['ChestPainType'] == 'ASY']\n",
    "df_no_heartdisease_nap = df_no_heartdisease[df_no_heartdisease['ChestPainType'] == 'NAP']\n",
    "df_no_heartdisease_ata = df_no_heartdisease[df_no_heartdisease['ChestPainType'] == 'ATA']\n",
    "df_no_heartdisease_ta = df_no_heartdisease[df_no_heartdisease['ChestPainType'] == 'TA']"
   ]
  },
  {
   "cell_type": "code",
   "execution_count": 105,
   "id": "8adecd3b",
   "metadata": {},
   "outputs": [],
   "source": [
    "prop_no_heartdisease_asy = len(df_no_heartdisease_asy) / len(df_no_heartdisease)\n",
    "prop_no_heartdisease_nap = len(df_no_heartdisease_nap) / len(df_no_heartdisease)\n",
    "prop_no_heartdisease_ata = len(df_no_heartdisease_ata) / len(df_no_heartdisease)\n",
    "prop_no_heartdisease_ta = len(df_no_heartdisease_ta) / len(df_no_heartdisease)"
   ]
  },
  {
   "cell_type": "code",
   "execution_count": 106,
   "id": "1c92818e",
   "metadata": {},
   "outputs": [
    {
     "data": {
      "image/png": "[encoded data removed]",
      "text/plain": [
       "<Figure size 720x540 with 1 Axes>"
      ]
     },
     "metadata": {},
     "output_type": "display_data"
    }
   ],
   "source": [
    "fig1, ax1 = plt.subplots(figsize=(10, 7.5))\n",
    "ax1.pie([prop_no_heartdisease_asy, prop_no_heartdisease_nap, prop_no_heartdisease_ata, prop_no_heartdisease_ta], labels=['Asymtopmatic', 'Non-Anginal Pain', 'Atypical Angina', 'Typical Angina'], autopct='%1.1f%%',\n",
    "        startangle=90, textprops={'fontsize': 12})\n",
    "ax1.axis('equal')\n",
    "\n",
    "plt.title('Proportion of Chest Pain Types NOT resulting in Heart Disease')\n",
    "plt.show()"
   ]
  },
  {
   "cell_type": "code",
   "execution_count": 172,
   "id": "59d4a619",
   "metadata": {},
   "outputs": [
    {
     "data": {
      "text/plain": [
       "[Text(0.5, 1.0, 'Countplot of Chest Pain Type')]"
      ]
     },
     "execution_count": 172,
     "metadata": {},
     "output_type": "execute_result"
    },
    {
     "data": {
      "image/png": "[encoded data removed]",
      "text/plain": [
       "<Figure size 720x576 with 1 Axes>"
      ]
     },
     "metadata": {
      "needs_background": "light"
     },
     "output_type": "display_data"
    }
   ],
   "source": [
    "plt.figure(figsize=(10,8))\n",
    "sns.countplot(data=df, x='ChestPainType', hue='HeartDisease').set(title='Countplot of Chest Pain Type')"
   ]
  },
  {
   "cell_type": "markdown",
   "id": "f0c41601",
   "metadata": {},
   "source": [
    "## Resting BP"
   ]
  },
  {
   "cell_type": "code",
   "execution_count": 129,
   "id": "046a683d",
   "metadata": {},
   "outputs": [
    {
     "data": {
      "text/plain": [
       "[Text(0.5, 1.0, 'Histogram of Resting BP')]"
      ]
     },
     "execution_count": 129,
     "metadata": {},
     "output_type": "execute_result"
    },
    {
     "data": {
      "image/png": "[encoded data removed]",
      "text/plain": [
       "<Figure size 720x576 with 1 Axes>"
      ]
     },
     "metadata": {
      "needs_background": "light"
     },
     "output_type": "display_data"
    }
   ],
   "source": [
    "plt.figure(figsize=(10,8))\n",
    "sns.histplot(data=df, x='RestingBP', hue='HeartDisease', kde=True).set(title='Histogram of Resting BP')"
   ]
  },
  {
   "cell_type": "markdown",
   "id": "779ad9aa",
   "metadata": {},
   "source": [
    "From the graph, those with higher blood pressure are slightly more likely to suffer from heart disease."
   ]
  },
  {
   "cell_type": "markdown",
   "id": "2c107660",
   "metadata": {},
   "source": [
    "## Cholesterol"
   ]
  },
  {
   "cell_type": "code",
   "execution_count": 157,
   "id": "ce3be667",
   "metadata": {},
   "outputs": [
    {
     "data": {
      "text/plain": [
       "[Text(0.5, 1.0, 'Histogram of Cholesterol')]"
      ]
     },
     "execution_count": 157,
     "metadata": {},
     "output_type": "execute_result"
    },
    {
     "data": {
      "image/png": "[encoded data removed]",
      "text/plain": [
       "<Figure size 720x576 with 1 Axes>"
      ]
     },
     "metadata": {
      "needs_background": "light"
     },
     "output_type": "display_data"
    }
   ],
   "source": [
    "plt.figure(figsize=(10,8))\n",
    "sns.histplot(data=df, x='Cholesterol', hue='HeartDisease', kde=True).set(title='Histogram of Cholesterol')"
   ]
  },
  {
   "cell_type": "markdown",
   "id": "b6fea481",
   "metadata": {},
   "source": [
    "From the graph, those with higher cholesterol are likely to suffer from heart disease."
   ]
  },
  {
   "cell_type": "markdown",
   "id": "2991d9c4",
   "metadata": {},
   "source": [
    "## Fasting Blood Sugar"
   ]
  },
  {
   "cell_type": "code",
   "execution_count": 170,
   "id": "14f67822",
   "metadata": {},
   "outputs": [
    {
     "data": {
      "text/plain": [
       "[Text(0.5, 1.0, 'Barplot of Fasting Blood Sugar')]"
      ]
     },
     "execution_count": 170,
     "metadata": {},
     "output_type": "execute_result"
    },
    {
     "data": {
      "image/png": "[encoded data removed]",
      "text/plain": [
       "<Figure size 720x576 with 1 Axes>"
      ]
     },
     "metadata": {
      "needs_background": "light"
     },
     "output_type": "display_data"
    }
   ],
   "source": [
    "plt.figure(figsize=(10,8))\n",
    "sns.countplot(data=df, x='FastingBS', hue='HeartDisease').set(title='Countplot of Fasting Blood Sugar')"
   ]
  },
  {
   "cell_type": "markdown",
   "id": "b1f7baa3",
   "metadata": {},
   "source": [
    "From the graph, bigger proportion of those with FastingBS=1 (fasting blood sugar > 120mg/dl) has higher chance of suffering from heart disease."
   ]
  },
  {
   "cell_type": "markdown",
   "id": "9aa60b4c",
   "metadata": {},
   "source": [
    "## Resting ECG"
   ]
  },
  {
   "cell_type": "code",
   "execution_count": 171,
   "id": "f6560610",
   "metadata": {},
   "outputs": [
    {
     "data": {
      "text/plain": [
       "[Text(0.5, 1.0, 'Countplot of Resting ECG')]"
      ]
     },
     "execution_count": 171,
     "metadata": {},
     "output_type": "execute_result"
    },
    {
     "data": {
      "image/png": "[encoded data removed]",
      "text/plain": [
       "<Figure size 720x576 with 1 Axes>"
      ]
     },
     "metadata": {
      "needs_background": "light"
     },
     "output_type": "display_data"
    }
   ],
   "source": [
    "plt.figure(figsize=(10,8))\n",
    "sns.countplot(data=df, x='RestingECG', hue='HeartDisease').set(title='Countplot of Resting ECG')"
   ]
  },
  {
   "cell_type": "markdown",
   "id": "01f948e4",
   "metadata": {},
   "source": [
    "From the graph, bigger proportion of those with ST resting ECG has higher chance of suffering from heart disease, followed by LVH then Normal resting ECG."
   ]
  },
  {
   "cell_type": "markdown",
   "id": "ae72f881",
   "metadata": {},
   "source": [
    "Conclusion\n",
    "\n",
    "Blood pressure is not an accurate predictor of a heart attack. Sometimes a heart attack can cause an increase or decrease in blood pressure, but having a change in blood pressure reading doesn't always mean it's heart-related. "
   ]
  },
  {
   "cell_type": "code",
   "execution_count": null,
   "id": "56399427",
   "metadata": {},
   "outputs": [],
   "source": []
  }
 ],
 "metadata": {
  "kernelspec": {
   "display_name": "Python 3 (ipykernel)",
   "language": "python",
   "name": "python3"
  },
  "language_info": {
   "codemirror_mode": {
    "name": "ipython",
    "version": 3
   },
   "file_extension": ".py",
   "mimetype": "text/x-python",
   "name": "python",
   "nbconvert_exporter": "python",
   "pygments_lexer": "ipython3",
   "version": "3.9.12"
  }
 },
 "nbformat": 4,
 "nbformat_minor": 5
}
